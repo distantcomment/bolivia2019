{
 "cells": [
  {
   "cell_type": "markdown",
   "id": "7e2b5c7e-3beb-4095-8813-6f20a7ba84fd",
   "metadata": {},
   "source": [
    "# Detailed Surplus Estimate #"
   ]
  },
  {
   "cell_type": "markdown",
   "id": "ebe38327-bdbd-4bfa-94f3-12fcc173caaf",
   "metadata": {},
   "source": [
    "## Introduction ##"
   ]
  },
  {
   "cell_type": "markdown",
   "id": "75aec2c2-e049-48fe-a130-5660e84dd5e9",
   "metadata": {},
   "source": [
    "(Note: This is a follow-up to <a href=\"https://www.reddit.com/user/srslyjuststop/comments/eiu6g1/discussion_about_ethical_hacking_graph_issues_bo1/\">this analysis</a>, specifically the section *The Limits of the ActaLog Data*.)"
   ]
  },
  {
   "cell_type": "markdown",
   "id": "dc6610b3-ae49-405c-b8ff-6d0c765025b7",
   "metadata": {
    "tags": []
   },
   "source": [
    "To calculate the number of verification-eligible acta columns, at minimum I'd need to know:\n",
    "* When the TREP's bo2 server received the initial transcription from the polling place. (<code>MobileTranscript</code>)\n",
    "* When the TREP's bo2 server received the acta image from the polling place. (<code>MobileImage</code>)\n",
    "* When the TREP's bo2 server sent the acta column to a user at SERECI La Paz for verification. (<code>SereciServed</code>)\n",
    "* <strike>When the TREP's bo2 server had acta images marked as valid or invalid. (<code>ImageValid</code>)</strike>"
   ]
  },
  {
   "cell_type": "markdown",
   "id": "d930461f-aa29-48b6-8123-f56b851b03a6",
   "metadata": {},
   "source": [
    "I only have <code>MobileTranscript</code>, so it's not possible to do the calculation. But what if I estimate the others?"
   ]
  },
  {
   "cell_type": "markdown",
   "id": "5d0c6f3b-e6dc-48b1-8c83-e04474f47cac",
   "metadata": {},
   "source": [
    "## Preparations ##"
   ]
  },
  {
   "cell_type": "markdown",
   "id": "0f0fc799-46e4-4f85-b06a-52ba33199f3f",
   "metadata": {},
   "source": [
    "### Libraries ###"
   ]
  },
  {
   "cell_type": "code",
   "execution_count": 1,
   "id": "e335e38a-343c-4531-bdb3-821fdbe87e23",
   "metadata": {
    "tags": []
   },
   "outputs": [],
   "source": [
    "# Standard libraries.\n",
    "import numpy as np\n",
    "import pandas as pd"
   ]
  },
  {
   "cell_type": "code",
   "execution_count": 2,
   "id": "1826761b-fae9-4d86-be2c-213516ece960",
   "metadata": {},
   "outputs": [],
   "source": [
    "# Graphing libraries.\n",
    "import matplotlib as mpl\n",
    "import matplotlib.pyplot as plt\n",
    "import seaborn as sns"
   ]
  },
  {
   "cell_type": "markdown",
   "id": "8ab1217c-300a-4c36-b1b7-90a68bccc405",
   "metadata": {},
   "source": [
    "### Settings ###"
   ]
  },
  {
   "cell_type": "code",
   "execution_count": 3,
   "id": "d80aecc8-1000-4b1e-9b31-0cb94ee1e038",
   "metadata": {},
   "outputs": [],
   "source": [
    "# Graph settings.\n",
    "sns.set_theme(palette='bright')\n",
    "plt.rcParams['axes.labelpad'] = 10\n",
    "plt.rcParams['figure.figsize'] = np.array(plt.rcParamsDefault['figure.figsize']) * 1.25"
   ]
  },
  {
   "cell_type": "markdown",
   "id": "19e90bec-e82c-4557-a229-b2f19c0f790d",
   "metadata": {},
   "source": [
    "### Data ###"
   ]
  },
  {
   "cell_type": "code",
   "execution_count": 4,
   "id": "aa2f2dd5-bc77-4073-8b20-6a429244357d",
   "metadata": {},
   "outputs": [],
   "source": [
    "# load data\n",
    "trep = pd.read_parquet('data/OEA_TREP_LogCompleto_19G_2019.11.03.06.53.parquet')\n",
    "computo = pd.read_parquet('data/2.RecepcionSobres_final.parquet').set_index(['NumMesa', 'ElecActa'])"
   ]
  },
  {
   "cell_type": "code",
   "execution_count": 5,
   "id": "6044386d-dc17-4103-8158-5e34ed935134",
   "metadata": {},
   "outputs": [],
   "source": [
    "# Sort the events chronologically, with a simple generic timestamp.\n",
    "trep.rename(columns={'Fecha Registro en Log': 'GenericTimestamp'}, inplace=True)   \n",
    "trep.sort_values('GenericTimestamp', inplace=True)"
   ]
  },
  {
   "cell_type": "code",
   "execution_count": 6,
   "id": "47d2a047-6ec4-436f-aa2b-74f089a32cf2",
   "metadata": {},
   "outputs": [],
   "source": [
    "# Define which type of user provided the transcription.\n",
    "trep['UserType'] = np.where(\n",
    "    trep.EstadoActa == 'Registrada',\n",
    "    'MobileUser',\n",
    "    np.where(\n",
    "        trep.AprobadorDate.isna(),\n",
    "        'SereciVerifier',\n",
    "        'SereciApprover'\n",
    "    )\n",
    ")"
   ]
  },
  {
   "cell_type": "code",
   "execution_count": 7,
   "id": "151e5dc5-a884-4a6a-a940-4adac6a6fac1",
   "metadata": {},
   "outputs": [],
   "source": [
    "# Drop SereciApprover transcriptions, which I don't care about.\n",
    "trep.drop(\n",
    "    index=trep[trep.UserType == 'SereciApprover'].index,\n",
    "    inplace=True\n",
    ")"
   ]
  },
  {
   "cell_type": "markdown",
   "id": "2b05e4d8-bdfb-4172-bd66-0ceeeb4879de",
   "metadata": {},
   "source": [
    "### Convenience Functions ###"
   ]
  },
  {
   "cell_type": "code",
   "execution_count": 8,
   "id": "a928515a-da1b-4a6d-90f9-770528d16426",
   "metadata": {},
   "outputs": [],
   "source": [
    "# Utility function for keeping columns in chronological order.\n",
    "def _sort_datetime_columns(df):\n",
    "    if ~np.all([pd.api.types.is_datetime64_dtype(x) for x in df.dtypes]):\n",
    "        raise ValueError('expected all columns to be datetime64')   \n",
    "    return df[df.dropna().rank(axis=1).mean(axis=0).sort_values().index].copy()\n",
    "pd.DataFrame.sort_datetime_columns = _sort_datetime_columns"
   ]
  },
  {
   "cell_type": "code",
   "execution_count": 9,
   "id": "0b7c4dd2-de48-42e7-8e87-eef2f676d6dc",
   "metadata": {},
   "outputs": [],
   "source": [
    "# Common formatters.\n",
    "pct_format = mpl.ticker.PercentFormatter(1)\n",
    "hhmm_format = mpl.dates.DateFormatter('%H:%M')\n",
    "\n",
    "# Function to set graph axis formatter (in chaining-style).\n",
    "def _formatter(axis, formatter):\n",
    "    axis.set_major_formatter(formatter)\n",
    "    return axis.axes\n",
    "mpl.axis.XAxis.formatter = _formatter"
   ]
  },
  {
   "cell_type": "code",
   "execution_count": 10,
   "id": "7a19e2a1-9234-427b-92d5-31578c931910",
   "metadata": {},
   "outputs": [],
   "source": [
    "# Draw red vertical spans where high-traffic periods are.\n",
    "def _hi_traffic_spans(ax):\n",
    "    ax.axvspan(*pd.to_datetime(['2019-10-20 17:35', '2019-10-20 18:10']), alpha=0.2, color='red')\n",
    "    ax.axvspan(*pd.to_datetime(['2019-10-20 19:30', '2019-10-20 20:00']), alpha=0.2, color='red')\n",
    "    return ax\n",
    "mpl.axes._axes.Axes.hi_traffic_spans = _hi_traffic_spans"
   ]
  },
  {
   "cell_type": "markdown",
   "id": "2c998c3a-3928-4c13-8a31-ded09ffb3715",
   "metadata": {},
   "source": [
    "## Analysis ##"
   ]
  },
  {
   "cell_type": "markdown",
   "id": "66dae4bd-6028-4250-81a9-027db90a5429",
   "metadata": {},
   "source": [
    "### MobileTranscript ###"
   ]
  },
  {
   "cell_type": "markdown",
   "id": "66f8e452-7d00-4d79-af98-bd86335c1e8b",
   "metadata": {},
   "source": [
    "First I'll grab the <code>MobileTranscript</code> (and <code>SereciTranscript</code>) timestamps that I actually do have:"
   ]
  },
  {
   "cell_type": "code",
   "execution_count": 11,
   "id": "8f382d90-c24e-45a7-a77a-3ce52a2b73c2",
   "metadata": {},
   "outputs": [
    {
     "data": {
      "text/html": [
       "<div>\n",
       "<style scoped>\n",
       "    .dataframe tbody tr th:only-of-type {\n",
       "        vertical-align: middle;\n",
       "    }\n",
       "\n",
       "    .dataframe tbody tr th {\n",
       "        vertical-align: top;\n",
       "    }\n",
       "\n",
       "    .dataframe thead th {\n",
       "        text-align: right;\n",
       "    }\n",
       "</style>\n",
       "<table border=\"1\" class=\"dataframe\">\n",
       "  <thead>\n",
       "    <tr style=\"text-align: right;\">\n",
       "      <th></th>\n",
       "      <th></th>\n",
       "      <th>MobileTranscript</th>\n",
       "      <th>SereciTranscript</th>\n",
       "    </tr>\n",
       "    <tr>\n",
       "      <th>NumMesa</th>\n",
       "      <th>ElecActa</th>\n",
       "      <th></th>\n",
       "      <th></th>\n",
       "    </tr>\n",
       "  </thead>\n",
       "  <tbody>\n",
       "    <tr>\n",
       "      <th>1001</th>\n",
       "      <th>Presidente y Vicepresidente</th>\n",
       "      <td>2019-10-20 13:10:42</td>\n",
       "      <td>2019-10-20 13:11:56</td>\n",
       "    </tr>\n",
       "    <tr>\n",
       "      <th>1002</th>\n",
       "      <th>Presidente y Vicepresidente</th>\n",
       "      <td>2019-10-20 11:41:48</td>\n",
       "      <td>2019-10-20 11:45:29</td>\n",
       "    </tr>\n",
       "    <tr>\n",
       "      <th>1003</th>\n",
       "      <th>Presidente y Vicepresidente</th>\n",
       "      <td>2019-10-20 17:27:26</td>\n",
       "      <td>2019-10-20 17:29:26</td>\n",
       "    </tr>\n",
       "    <tr>\n",
       "      <th>1004</th>\n",
       "      <th>Presidente y Vicepresidente</th>\n",
       "      <td>2019-10-20 17:34:42</td>\n",
       "      <td>2019-10-20 17:39:41</td>\n",
       "    </tr>\n",
       "    <tr>\n",
       "      <th>1005</th>\n",
       "      <th>Presidente y Vicepresidente</th>\n",
       "      <td>2019-10-20 17:05:27</td>\n",
       "      <td>2019-10-20 17:20:15</td>\n",
       "    </tr>\n",
       "    <tr>\n",
       "      <th>...</th>\n",
       "      <th>...</th>\n",
       "      <td>...</td>\n",
       "      <td>...</td>\n",
       "    </tr>\n",
       "    <tr>\n",
       "      <th>90387</th>\n",
       "      <th>Presidente y Vicepresidente</th>\n",
       "      <td>2019-10-20 17:47:20</td>\n",
       "      <td>2019-10-20 17:49:51</td>\n",
       "    </tr>\n",
       "    <tr>\n",
       "      <th rowspan=\"2\" valign=\"top\">90388</th>\n",
       "      <th>Diputados Uninominales</th>\n",
       "      <td>2019-10-20 18:57:45</td>\n",
       "      <td>2019-10-20 19:00:52</td>\n",
       "    </tr>\n",
       "    <tr>\n",
       "      <th>Presidente y Vicepresidente</th>\n",
       "      <td>2019-10-20 18:57:43</td>\n",
       "      <td>2019-10-20 18:59:31</td>\n",
       "    </tr>\n",
       "    <tr>\n",
       "      <th rowspan=\"2\" valign=\"top\">90389</th>\n",
       "      <th>Diputados Uninominales</th>\n",
       "      <td>2019-10-20 17:17:59</td>\n",
       "      <td>2019-10-20 17:27:33</td>\n",
       "    </tr>\n",
       "    <tr>\n",
       "      <th>Presidente y Vicepresidente</th>\n",
       "      <td>2019-10-20 17:17:58</td>\n",
       "      <td>2019-10-20 17:25:52</td>\n",
       "    </tr>\n",
       "  </tbody>\n",
       "</table>\n",
       "<p>67400 rows × 2 columns</p>\n",
       "</div>"
      ],
      "text/plain": [
       "                                       MobileTranscript    SereciTranscript\n",
       "NumMesa ElecActa                                                           \n",
       "1001    Presidente y Vicepresidente 2019-10-20 13:10:42 2019-10-20 13:11:56\n",
       "1002    Presidente y Vicepresidente 2019-10-20 11:41:48 2019-10-20 11:45:29\n",
       "1003    Presidente y Vicepresidente 2019-10-20 17:27:26 2019-10-20 17:29:26\n",
       "1004    Presidente y Vicepresidente 2019-10-20 17:34:42 2019-10-20 17:39:41\n",
       "1005    Presidente y Vicepresidente 2019-10-20 17:05:27 2019-10-20 17:20:15\n",
       "...                                                 ...                 ...\n",
       "90387   Presidente y Vicepresidente 2019-10-20 17:47:20 2019-10-20 17:49:51\n",
       "90388   Diputados Uninominales      2019-10-20 18:57:45 2019-10-20 19:00:52\n",
       "        Presidente y Vicepresidente 2019-10-20 18:57:43 2019-10-20 18:59:31\n",
       "90389   Diputados Uninominales      2019-10-20 17:17:59 2019-10-20 17:27:33\n",
       "        Presidente y Vicepresidente 2019-10-20 17:17:58 2019-10-20 17:25:52\n",
       "\n",
       "[67400 rows x 2 columns]"
      ]
     },
     "execution_count": 11,
     "metadata": {},
     "output_type": "execute_result"
    }
   ],
   "source": [
    "trep_times = (\n",
    "    trep.pivot_table(\n",
    "        index=('NumMesa', 'ElecActa'),\n",
    "        columns='UserType',\n",
    "        values='GenericTimestamp',\n",
    "        aggfunc='min'\n",
    "    )\n",
    "    .rename(columns={\n",
    "        'MobileUser': 'MobileTranscript',\n",
    "        'SereciVerifier': 'SereciTranscript'\n",
    "    })\n",
    "    .rename_axis(columns=None)\n",
    ")\n",
    "trep_times"
   ]
  },
  {
   "cell_type": "markdown",
   "id": "451e849e-e227-4bb3-a6a8-720e4fc753b2",
   "metadata": {},
   "source": [
    "To establish a baseline, I'll do the basic surplus estimate right now, using only the <code>MobileTranscript</code> and <code>SereciTranscript</code> timestamps."
   ]
  },
  {
   "cell_type": "code",
   "execution_count": 12,
   "id": "8c1f8000-e6ef-4a2f-b407-df6870535b66",
   "metadata": {},
   "outputs": [],
   "source": [
    "# utility function to do a single surplus estimate.\n",
    "def _calc_surplus(df_times, start_col, end_col):\n",
    "    return (\n",
    "        pd.merge(\n",
    "            df_times.groupby(start_col).size().rename('surplus_in'),\n",
    "            df_times.groupby(end_col).size().rename('surplus_out'),\n",
    "            how='outer',\n",
    "            right_index=True,\n",
    "            left_index=True,\n",
    "            sort=True\n",
    "        )\n",
    "        .fillna(0)\n",
    "        .pipe(lambda x: x.surplus_in.cumsum() - x.surplus_out.cumsum())\n",
    "    )\n",
    "\n",
    "# utility function to do multiple surplus estimates.\n",
    "def calculate_surplus(df_times, calc_dict, freq='1Min'):\n",
    "    return (\n",
    "        pd.concat(\n",
    "            [_calc_surplus(df_times, *v).rename(k) for k,v in calc_dict.items()],\n",
    "            axis=1,\n",
    "            join='outer',\n",
    "            sort=True\n",
    "        )\n",
    "        .ffill()\n",
    "        .resample(freq)\n",
    "        .ffill()\n",
    "        .fillna(0)\n",
    "    )"
   ]
  },
  {
   "cell_type": "code",
   "execution_count": 13,
   "id": "92d3cf49-4bf8-42b2-8e9c-092fce3833b8",
   "metadata": {},
   "outputs": [
    {
     "data": {
      "text/plain": [
       "<matplotlib.legend.Legend at 0x24e12bfc850>"
      ]
     },
     "execution_count": 13,
     "metadata": {},
     "output_type": "execute_result"
    },
    {
     "data": {
      "image/png": "[encoded data removed]",
      "text/plain": [
       "<Figure size 800x600 with 1 Axes>"
      ]
     },
     "metadata": {},
     "output_type": "display_data"
    }
   ],
   "source": [
    "(\n",
    "    calculate_surplus(\n",
    "        trep_times,\n",
    "        {'MobileTranscript → SereciTranscript': ('MobileTranscript', 'SereciTranscript')}\n",
    "    )\n",
    "    .plot(\n",
    "        title='Baseline Surplus Estimate\\n(TREP, Election Day, All Regions/Elections)',\n",
    "        xlabel='Time',\n",
    "        xlim=[pd.Timestamp('2019-10-20 16:30'), pd.Timestamp('2019-10-20 21:00')],\n",
    "        x_compat=True,\n",
    "        ylabel='Columns'\n",
    "    )\n",
    "    .xaxis.formatter(hhmm_format)\n",
    "    .hi_traffic_spans()\n",
    "    .legend(loc='upper left')\n",
    ")"
   ]
  },
  {
   "cell_type": "markdown",
   "id": "3d8e60b6-fdd0-4aeb-b959-36daeb4a98ef",
   "metadata": {},
   "source": [
    "This graph should look familiar, since it's the same one that appears in the <a href=\"https://www.reddit.com/user/srslyjuststop/comments/eiu6g1/discussion_about_ethical_hacking_graph_issues_bo1/\">other</a> analysis. I'll need to improve it, though, with the use of other timestamps which I'll have to estimate. To ensure that all the timestamps are internally consistent and make sense, I'll write some simple code to run consistency checks on the data."
   ]
  },
  {
   "cell_type": "code",
   "execution_count": 14,
   "id": "70329337-03b3-46b8-b183-650bfcb1eff0",
   "metadata": {},
   "outputs": [],
   "source": [
    "# lists of potential consistency problems with specific columns (will fill in later).\n",
    "_tests = {}\n",
    "\n",
    "# add a consistency test.\n",
    "def set_test(column_name, error_name, funct):\n",
    "    if column_name not in _tests:\n",
    "        _tests[column_name] = {}\n",
    "    _tests[column_name][error_name] = funct\n",
    "\n",
    "# remove a consistency test.\n",
    "def delete_test(column_name, error_name):\n",
    "    if (column_name not in _tests) or (error_name not in _tests[column_name]):\n",
    "        return False\n",
    "    if len(_tests[column_name]) > 1:\n",
    "        del _tests[column_name][error_name]\n",
    "    else:\n",
    "        del _tests[column_name]\n",
    "    return True\n",
    "\n",
    "# run all consistency checks.\n",
    "def run_tests(normalize=False):\n",
    "    test_results = {}\n",
    "    for column_name, column_tests in _tests.items():\n",
    "        for error_name, test_func in column_tests.items():\n",
    "            test_results[(column_name, error_name)] = test_func(trep_times).sum()\n",
    "    test_results = pd.Series(test_results, name='nerrs').rename_axis(index=['column', 'error'])\n",
    "    if normalize and ~test_results.empty:\n",
    "        test_results = (test_results / len(trep_times))\n",
    "    return test_results"
   ]
  },
  {
   "cell_type": "markdown",
   "id": "2dfc4fa7-d05d-4910-bee4-8c7a1086615a",
   "metadata": {},
   "source": [
    "First, I'll make sure the <code>MobileTranscript</code> and <code>SereciTranscript</code> are defined, then that <code>MobileTranscript</code> never precedes <code>SereciTranscript</code>."
   ]
  },
  {
   "cell_type": "code",
   "execution_count": 15,
   "id": "e3ea074d-af40-47fe-b5c5-b6f0561e13a0",
   "metadata": {},
   "outputs": [
    {
     "data": {
      "text/plain": [
       "column            error             \n",
       "MobileTranscript  isnull                 0\n",
       "                  > SereciTranscript     0\n",
       "SereciTranscript  isnull                77\n",
       "Name: nerrs, dtype: int64"
      ]
     },
     "execution_count": 15,
     "metadata": {},
     "output_type": "execute_result"
    }
   ],
   "source": [
    "# run some initial tests.\n",
    "set_test('MobileTranscript', 'isnull', lambda x: x.MobileTranscript.isna())\n",
    "set_test('MobileTranscript', '> SereciTranscript', lambda x: (x.MobileTranscript > x.SereciTranscript))\n",
    "set_test('SereciTranscript', 'isnull', lambda x: x.SereciTranscript.isna())\n",
    "run_tests()"
   ]
  },
  {
   "cell_type": "markdown",
   "id": "2752ae7e-8d30-4115-8690-3693493656ea",
   "metadata": {},
   "source": [
    "There are 77 records with no <code>SereciTranscript</code> time. To make them easier to process, I'll assign them an arbitrary post-election timestamp."
   ]
  },
  {
   "cell_type": "code",
   "execution_count": 16,
   "id": "e74552b0-6694-463d-a7a3-f8e1f43990c2",
   "metadata": {},
   "outputs": [
    {
     "data": {
      "text/plain": [
       "column            error             \n",
       "MobileTranscript  isnull                0\n",
       "                  > SereciTranscript    0\n",
       "SereciTranscript  isnull                0\n",
       "Name: nerrs, dtype: int64"
      ]
     },
     "execution_count": 16,
     "metadata": {},
     "output_type": "execute_result"
    }
   ],
   "source": [
    "trep_times.SereciTranscript.fillna(pd.Timestamp('2019-11-10 05:05'), inplace=True)\n",
    "run_tests()"
   ]
  },
  {
   "cell_type": "markdown",
   "id": "93bc1579-019a-4963-900f-181b1873feb4",
   "metadata": {},
   "source": [
    "### SereciServed ###"
   ]
  },
  {
   "cell_type": "markdown",
   "id": "1fe1d2a5-f1e5-440d-98ac-7869c21e8524",
   "metadata": {},
   "source": [
    "Next, I have to estimate <code>SereciServed</code>. As it happens, there's a moderately sensible way to do this. If you assume verification operators worked non-stop, then once one of them finished with one acta column, they were immediately served the next one. If you list a user's verification attempts from oldest to newest, <code>SereciServed</code> should be the user's previous attempt (plus a second or two). There are some issues, though. First, acta columns that were a user's first verification attempt won't have a <code>SereciServed</code> time because the user had no previous attempt. Second, if a user stops working, maybe due to a shortage of acta columns, then <code>SereciServed</code> will precede the time when the user actually received the acta column. Finally, if a user rejects an acta column in a way that doesn't show up in the ActaLog data, such as marking the acta image as \"invalid,\" it'll have a similar effect. Overall, this estimate isn't bad, but it's only a lower bound on when a column was served out."
   ]
  },
  {
   "cell_type": "markdown",
   "id": "38679368-c747-4141-b1cd-c86b8618078f",
   "metadata": {},
   "source": [
    "So, I'll calculate <code>SereciServed</code> then add it to the dataframe:"
   ]
  },
  {
   "cell_type": "code",
   "execution_count": 17,
   "id": "8b18cd1f-ae0e-4189-88ef-bb4bb5dea248",
   "metadata": {},
   "outputs": [
    {
     "data": {
      "text/html": [
       "<div>\n",
       "<style scoped>\n",
       "    .dataframe tbody tr th:only-of-type {\n",
       "        vertical-align: middle;\n",
       "    }\n",
       "\n",
       "    .dataframe tbody tr th {\n",
       "        vertical-align: top;\n",
       "    }\n",
       "\n",
       "    .dataframe thead th {\n",
       "        text-align: right;\n",
       "    }\n",
       "</style>\n",
       "<table border=\"1\" class=\"dataframe\">\n",
       "  <thead>\n",
       "    <tr style=\"text-align: right;\">\n",
       "      <th></th>\n",
       "      <th></th>\n",
       "      <th>MobileTranscript</th>\n",
       "      <th>SereciServed</th>\n",
       "      <th>SereciTranscript</th>\n",
       "    </tr>\n",
       "    <tr>\n",
       "      <th>NumMesa</th>\n",
       "      <th>ElecActa</th>\n",
       "      <th></th>\n",
       "      <th></th>\n",
       "      <th></th>\n",
       "    </tr>\n",
       "  </thead>\n",
       "  <tbody>\n",
       "    <tr>\n",
       "      <th>1001</th>\n",
       "      <th>Presidente y Vicepresidente</th>\n",
       "      <td>2019-10-20 13:10:42</td>\n",
       "      <td>2019-10-20 13:11:35</td>\n",
       "      <td>2019-10-20 13:11:56</td>\n",
       "    </tr>\n",
       "    <tr>\n",
       "      <th>1002</th>\n",
       "      <th>Presidente y Vicepresidente</th>\n",
       "      <td>2019-10-20 11:41:48</td>\n",
       "      <td>2019-10-20 11:45:06</td>\n",
       "      <td>2019-10-20 11:45:29</td>\n",
       "    </tr>\n",
       "    <tr>\n",
       "      <th>1003</th>\n",
       "      <th>Presidente y Vicepresidente</th>\n",
       "      <td>2019-10-20 17:27:26</td>\n",
       "      <td>2019-10-20 17:29:07</td>\n",
       "      <td>2019-10-20 17:29:26</td>\n",
       "    </tr>\n",
       "    <tr>\n",
       "      <th>1004</th>\n",
       "      <th>Presidente y Vicepresidente</th>\n",
       "      <td>2019-10-20 17:34:42</td>\n",
       "      <td>2019-10-20 17:39:15</td>\n",
       "      <td>2019-10-20 17:39:41</td>\n",
       "    </tr>\n",
       "    <tr>\n",
       "      <th>1005</th>\n",
       "      <th>Presidente y Vicepresidente</th>\n",
       "      <td>2019-10-20 17:05:27</td>\n",
       "      <td>NaT</td>\n",
       "      <td>2019-10-20 17:20:15</td>\n",
       "    </tr>\n",
       "    <tr>\n",
       "      <th>...</th>\n",
       "      <th>...</th>\n",
       "      <td>...</td>\n",
       "      <td>...</td>\n",
       "      <td>...</td>\n",
       "    </tr>\n",
       "    <tr>\n",
       "      <th>90387</th>\n",
       "      <th>Presidente y Vicepresidente</th>\n",
       "      <td>2019-10-20 17:47:20</td>\n",
       "      <td>2019-10-20 17:49:30</td>\n",
       "      <td>2019-10-20 17:49:51</td>\n",
       "    </tr>\n",
       "    <tr>\n",
       "      <th rowspan=\"2\" valign=\"top\">90388</th>\n",
       "      <th>Diputados Uninominales</th>\n",
       "      <td>2019-10-20 18:57:45</td>\n",
       "      <td>2019-10-20 18:58:44</td>\n",
       "      <td>2019-10-20 19:00:52</td>\n",
       "    </tr>\n",
       "    <tr>\n",
       "      <th>Presidente y Vicepresidente</th>\n",
       "      <td>2019-10-20 18:57:43</td>\n",
       "      <td>2019-10-20 18:58:48</td>\n",
       "      <td>2019-10-20 18:59:31</td>\n",
       "    </tr>\n",
       "    <tr>\n",
       "      <th rowspan=\"2\" valign=\"top\">90389</th>\n",
       "      <th>Diputados Uninominales</th>\n",
       "      <td>2019-10-20 17:17:59</td>\n",
       "      <td>2019-10-20 17:27:06</td>\n",
       "      <td>2019-10-20 17:27:33</td>\n",
       "    </tr>\n",
       "    <tr>\n",
       "      <th>Presidente y Vicepresidente</th>\n",
       "      <td>2019-10-20 17:17:58</td>\n",
       "      <td>2019-10-20 17:25:02</td>\n",
       "      <td>2019-10-20 17:25:52</td>\n",
       "    </tr>\n",
       "  </tbody>\n",
       "</table>\n",
       "<p>67400 rows × 3 columns</p>\n",
       "</div>"
      ],
      "text/plain": [
       "                                       MobileTranscript        SereciServed  \\\n",
       "NumMesa ElecActa                                                              \n",
       "1001    Presidente y Vicepresidente 2019-10-20 13:10:42 2019-10-20 13:11:35   \n",
       "1002    Presidente y Vicepresidente 2019-10-20 11:41:48 2019-10-20 11:45:06   \n",
       "1003    Presidente y Vicepresidente 2019-10-20 17:27:26 2019-10-20 17:29:07   \n",
       "1004    Presidente y Vicepresidente 2019-10-20 17:34:42 2019-10-20 17:39:15   \n",
       "1005    Presidente y Vicepresidente 2019-10-20 17:05:27                 NaT   \n",
       "...                                                 ...                 ...   \n",
       "90387   Presidente y Vicepresidente 2019-10-20 17:47:20 2019-10-20 17:49:30   \n",
       "90388   Diputados Uninominales      2019-10-20 18:57:45 2019-10-20 18:58:44   \n",
       "        Presidente y Vicepresidente 2019-10-20 18:57:43 2019-10-20 18:58:48   \n",
       "90389   Diputados Uninominales      2019-10-20 17:17:59 2019-10-20 17:27:06   \n",
       "        Presidente y Vicepresidente 2019-10-20 17:17:58 2019-10-20 17:25:02   \n",
       "\n",
       "                                       SereciTranscript  \n",
       "NumMesa ElecActa                                         \n",
       "1001    Presidente y Vicepresidente 2019-10-20 13:11:56  \n",
       "1002    Presidente y Vicepresidente 2019-10-20 11:45:29  \n",
       "1003    Presidente y Vicepresidente 2019-10-20 17:29:26  \n",
       "1004    Presidente y Vicepresidente 2019-10-20 17:39:41  \n",
       "1005    Presidente y Vicepresidente 2019-10-20 17:20:15  \n",
       "...                                                 ...  \n",
       "90387   Presidente y Vicepresidente 2019-10-20 17:49:51  \n",
       "90388   Diputados Uninominales      2019-10-20 19:00:52  \n",
       "        Presidente y Vicepresidente 2019-10-20 18:59:31  \n",
       "90389   Diputados Uninominales      2019-10-20 17:27:33  \n",
       "        Presidente y Vicepresidente 2019-10-20 17:25:52  \n",
       "\n",
       "[67400 rows x 3 columns]"
      ]
     },
     "execution_count": 17,
     "metadata": {},
     "output_type": "execute_result"
    }
   ],
   "source": [
    "time_to_press_button = pd.Timedelta('2s')\n",
    "trep_times = trep_times.join(\n",
    "    time_to_press_button + (\n",
    "        trep[trep.UserType == 'SereciVerifier']\n",
    "            .set_index(['NumMesa', 'ElecActa'])\n",
    "            .groupby('VerificadorUser')\n",
    "            .VerificadorDate.shift()\n",
    "            .rename('SereciServed')\n",
    "    )\n",
    ").sort_datetime_columns()\n",
    "trep_times"
   ]
  },
  {
   "cell_type": "markdown",
   "id": "fca902a2-191e-41ce-99c6-140ee3567b5c",
   "metadata": {},
   "source": [
    "But there's two problems with <code>SereciServed</code>. First, 439 of the timestamps are blank:"
   ]
  },
  {
   "cell_type": "code",
   "execution_count": 18,
   "id": "a3ee660c-710c-4049-b98f-86ad1e36a72d",
   "metadata": {},
   "outputs": [
    {
     "data": {
      "text/plain": [
       "column            error             \n",
       "MobileTranscript  isnull                  0\n",
       "                  > SereciTranscript      0\n",
       "SereciTranscript  isnull                  0\n",
       "SereciServed      isnull                439\n",
       "Name: nerrs, dtype: int64"
      ]
     },
     "execution_count": 18,
     "metadata": {},
     "output_type": "execute_result"
    }
   ],
   "source": [
    "set_test('SereciServed', 'isnull', lambda x: x.SereciServed.isna())\n",
    "run_tests()"
   ]
  },
  {
   "cell_type": "markdown",
   "id": "5451c833-6bc8-4428-b4a9-9b9fb080c57f",
   "metadata": {},
   "source": [
    "Of the 439, 362 are because it was the user's first ever verification attempt and the other 77 are because the acta column never had a verification attempt."
   ]
  },
  {
   "cell_type": "markdown",
   "id": "ca085749-2c0f-4dbb-a116-8c517e59a355",
   "metadata": {},
   "source": [
    "There are also some impossibly early <code>SereciServed</code> times. A simple approach to detect these is to check for <code>SereciServed < MobileTranscript</code>. Acta columns can't get served out to verification operators *before* their first transcript is recorded, since the first transcript is required for the acta column to be eligible for verification."
   ]
  },
  {
   "cell_type": "markdown",
   "id": "4b4e84f7-323c-4088-880f-e2b60e049d9a",
   "metadata": {},
   "source": [
    "So, I'll add a check for <code>SereciServed < MobileTranscript</code>, then run the tests again:"
   ]
  },
  {
   "cell_type": "code",
   "execution_count": 19,
   "id": "17215c04-e426-4fd2-8791-2c7e20a22727",
   "metadata": {},
   "outputs": [
    {
     "data": {
      "text/plain": [
       "column            error             \n",
       "MobileTranscript  isnull                0.000000\n",
       "                  > SereciTranscript    0.000000\n",
       "SereciTranscript  isnull                0.000000\n",
       "SereciServed      isnull                0.006513\n",
       "                  < MobileTranscript    0.099733\n",
       "Name: nerrs, dtype: float64"
      ]
     },
     "execution_count": 19,
     "metadata": {},
     "output_type": "execute_result"
    }
   ],
   "source": [
    "set_test('SereciServed', '< MobileTranscript', lambda x: (x.MobileTranscript > x.SereciServed))\n",
    "run_tests(normalize=True)"
   ]
  },
  {
   "cell_type": "markdown",
   "id": "a459eca6-57a0-45bd-8641-280f5a092e08",
   "metadata": {},
   "source": [
    "Almost 10% of the records have this issue. I don't want to drop records over early or blank <code>SereciServed</code> times, though, so I'll replace them with:\n",
    "\n",
    "<code>SereciTranscript - SereciUser.TimeBetweenVerifs.median() + TimeToClickButton</code>\n",
    "\n",
    "In other words, I'll assume the user spent what, for them, would be a moderate amount of time transcribing an acta column."
   ]
  },
  {
   "cell_type": "code",
   "execution_count": 20,
   "id": "188d7607-f1bc-424f-9faa-1d55c328e8cb",
   "metadata": {},
   "outputs": [
    {
     "data": {
      "text/plain": [
       "column            error             \n",
       "MobileTranscript  isnull                0.000000\n",
       "                  > SereciTranscript    0.000000\n",
       "SereciTranscript  isnull                0.000000\n",
       "SereciServed      isnull                0.001142\n",
       "                  < MobileTranscript    0.024407\n",
       "Name: nerrs, dtype: float64"
      ]
     },
     "execution_count": 20,
     "metadata": {},
     "output_type": "execute_result"
    }
   ],
   "source": [
    "UserTimeBetweenVerifs = (\n",
    "    trep.loc[\n",
    "        trep.UserType == 'SereciVerifier',\n",
    "        ['NumMesa', 'ElecActa', 'VerificadorUser', 'VerificadorDate']\n",
    "    ]\n",
    "        .pipe(lambda x:\n",
    "            x.join(\n",
    "                x.groupby('VerificadorUser')\n",
    "                    .VerificadorDate.diff()\n",
    "                    .dt.total_seconds()\n",
    "                    .rename('SecondsBetweenVerifs')\n",
    "            )\n",
    "        )\n",
    "        .set_index(['NumMesa', 'ElecActa'])\n",
    "        .groupby('VerificadorUser')\n",
    "        .SecondsBetweenVerifs.transform('median')\n",
    "        .pipe(lambda x: pd.to_timedelta(x, unit='s'))\n",
    ")\n",
    "trep_times.SereciServed = trep_times.SereciServed.where(\n",
    "    (trep_times.SereciServed >= trep_times.MobileTranscript),\n",
    "    (trep_times.SereciTranscript - UserTimeBetweenVerifs + time_to_press_button)\n",
    ")\n",
    "run_tests(normalize=True)"
   ]
  },
  {
   "cell_type": "markdown",
   "id": "12e629b8-5088-4947-ab07-778ccf5f1fb0",
   "metadata": {},
   "source": [
    "There are still 2.4% of records with bad <code>SereciServed</code> times. For those I'll use <code>SereciTranscript</code>, the latest possible value of <code>SereciServed</code>."
   ]
  },
  {
   "cell_type": "code",
   "execution_count": 21,
   "id": "1f353ad4-7665-4aaf-b2ab-9862122eb81f",
   "metadata": {},
   "outputs": [
    {
     "data": {
      "text/plain": [
       "column            error             \n",
       "MobileTranscript  isnull                0\n",
       "                  > SereciTranscript    0\n",
       "SereciTranscript  isnull                0\n",
       "SereciServed      isnull                0\n",
       "                  < MobileTranscript    0\n",
       "Name: nerrs, dtype: int64"
      ]
     },
     "execution_count": 21,
     "metadata": {},
     "output_type": "execute_result"
    }
   ],
   "source": [
    "trep_times.SereciServed = trep_times.SereciServed.where(\n",
    "    (trep_times.SereciServed >= trep_times.MobileTranscript),\n",
    "    trep_times.SereciTranscript # this *inflates* the surplus estimate, making it equivalent to the basic actalog-based estimate.\n",
    ")\n",
    "run_tests()"
   ]
  },
  {
   "cell_type": "markdown",
   "id": "81829a15-5ca3-499c-95e6-49f23efe8b78",
   "metadata": {},
   "source": [
    "That's it for the <code>SereciServed</code> tests, but before I move on, I'll redo the first estimate and compare it to one with <code>SereciServed</code>."
   ]
  },
  {
   "cell_type": "code",
   "execution_count": 22,
   "id": "a3bec1db-cf78-4e16-8c33-f9effe1f3bf7",
   "metadata": {},
   "outputs": [
    {
     "data": {
      "text/plain": [
       "<matplotlib.legend.Legend at 0x24e1a2c5660>"
      ]
     },
     "execution_count": 22,
     "metadata": {},
     "output_type": "execute_result"
    },
    {
     "data": {
      "image/png": "[encoded data removed]",
      "text/plain": [
       "<Figure size 800x600 with 1 Axes>"
      ]
     },
     "metadata": {},
     "output_type": "display_data"
    }
   ],
   "source": [
    "(\n",
    "    calculate_surplus(\n",
    "        trep_times,\n",
    "        {\n",
    "            'MobileTranscript → SereciTranscript': ('MobileTranscript', 'SereciTranscript'),\n",
    "            'MobileTranscript → SereciServed': ('MobileTranscript', 'SereciServed')\n",
    "        }\n",
    "    )\n",
    "    .plot(\n",
    "        title='Surplus Estimates\\n(TREP, Election Day, All Regions/Elections)',\n",
    "        xlabel='Time',\n",
    "        xlim=[pd.Timestamp('2019-10-20 16:30'), pd.Timestamp('2019-10-20 21:00')],\n",
    "        x_compat=True,\n",
    "        ylabel='Columns'\n",
    "    )\n",
    "    .xaxis.formatter(hhmm_format)\n",
    "    .hi_traffic_spans()\n",
    "    .legend(loc='upper left')\n",
    ")"
   ]
  },
  {
   "cell_type": "markdown",
   "id": "292474eb-3a29-4a3d-be5e-72f2f5054905",
   "metadata": {},
   "source": [
    "So, it got a little shave, but that's all."
   ]
  },
  {
   "cell_type": "markdown",
   "id": "f6c939ba-b2dc-475a-a698-bb3287672b8d",
   "metadata": {},
   "source": [
    "### MobileImage ###"
   ]
  },
  {
   "cell_type": "markdown",
   "id": "1153074a-33d4-4edc-9397-fb1bce09a0c1",
   "metadata": {},
   "source": [
    "Next, I need <code>MobileImage</code>. This one is harder than <code>SereciServed</code>, but I have a trick to help me."
   ]
  },
  {
   "cell_type": "markdown",
   "id": "aab06322-3cb4-4ad1-a889-c9644774d1ae",
   "metadata": {},
   "source": [
    "When a transmission operator used their mobile phone to send an acta photo, the image traveled this path:\n",
    "<blockquote>phone → bo11 → bo2 → bo2s → bo3</blockquote>\n",
    "\n",
    "(Note: bo11 was a TREP reverse proxy and bo2, bo2s, and bo3 were TREP application servers.)"
   ]
  },
  {
   "cell_type": "markdown",
   "id": "8161af77-e486-4a5a-8811-3c341ffe5295",
   "metadata": {},
   "source": [
    "However, for *overseas* polling stations, once the image hit bo2, it also forked to this path into the Cómputo system (<a href=\"https://drive.google.com/file/d/1MP4WZmDejLAmygNIsouyPjjttVDCk2vh/view?usp=sharing\">BISITE</a>, p154):\n",
    "<blockquote>bo2 → oep1 → oep2 → bo5 → bo4</blockquote>\n",
    "\n",
    "(Note: oep1 was a Cómputo reverse proxy and oep2, bo5, and bo4 were Cómputo application servers.)"
   ]
  },
  {
   "cell_type": "markdown",
   "id": "477bae8b-1872-4a6a-8ca9-3e732944a577",
   "metadata": {},
   "source": [
    "While I might not have <code>MobileImage</code>, I do have a Cómputo dataset with image transmission times and IP addresses. This dataset has records of image transmissions directly from the bo2 server, whose public IP address (<code>3.231.68.158</code>) is the origin IP address for 1452 records, all from overseas. So, I'll add those times."
   ]
  },
  {
   "cell_type": "code",
   "execution_count": 23,
   "id": "562b855e-b9fe-4d0c-bfc7-44eb24f89529",
   "metadata": {},
   "outputs": [
    {
     "data": {
      "text/html": [
       "<div>\n",
       "<style scoped>\n",
       "    .dataframe tbody tr th:only-of-type {\n",
       "        vertical-align: middle;\n",
       "    }\n",
       "\n",
       "    .dataframe tbody tr th {\n",
       "        vertical-align: top;\n",
       "    }\n",
       "\n",
       "    .dataframe thead th {\n",
       "        text-align: right;\n",
       "    }\n",
       "</style>\n",
       "<table border=\"1\" class=\"dataframe\">\n",
       "  <thead>\n",
       "    <tr style=\"text-align: right;\">\n",
       "      <th></th>\n",
       "      <th></th>\n",
       "      <th>MobileTranscript</th>\n",
       "      <th>ComputoImage</th>\n",
       "      <th>SereciServed</th>\n",
       "      <th>SereciTranscript</th>\n",
       "    </tr>\n",
       "    <tr>\n",
       "      <th>NumMesa</th>\n",
       "      <th>ElecActa</th>\n",
       "      <th></th>\n",
       "      <th></th>\n",
       "      <th></th>\n",
       "      <th></th>\n",
       "    </tr>\n",
       "  </thead>\n",
       "  <tbody>\n",
       "    <tr>\n",
       "      <th>1001</th>\n",
       "      <th>Presidente y Vicepresidente</th>\n",
       "      <td>2019-10-20 13:10:42</td>\n",
       "      <td>2019-10-20 13:12:00</td>\n",
       "      <td>2019-10-20 13:11:35</td>\n",
       "      <td>2019-10-20 13:11:56</td>\n",
       "    </tr>\n",
       "    <tr>\n",
       "      <th>1002</th>\n",
       "      <th>Presidente y Vicepresidente</th>\n",
       "      <td>2019-10-20 11:41:48</td>\n",
       "      <td>2019-10-20 11:42:00</td>\n",
       "      <td>2019-10-20 11:45:06</td>\n",
       "      <td>2019-10-20 11:45:29</td>\n",
       "    </tr>\n",
       "    <tr>\n",
       "      <th>1003</th>\n",
       "      <th>Presidente y Vicepresidente</th>\n",
       "      <td>2019-10-20 17:27:26</td>\n",
       "      <td>2019-10-20 17:29:00</td>\n",
       "      <td>2019-10-20 17:29:07</td>\n",
       "      <td>2019-10-20 17:29:26</td>\n",
       "    </tr>\n",
       "    <tr>\n",
       "      <th>1004</th>\n",
       "      <th>Presidente y Vicepresidente</th>\n",
       "      <td>2019-10-20 17:34:42</td>\n",
       "      <td>2019-10-20 17:39:00</td>\n",
       "      <td>2019-10-20 17:39:15</td>\n",
       "      <td>2019-10-20 17:39:41</td>\n",
       "    </tr>\n",
       "    <tr>\n",
       "      <th>1005</th>\n",
       "      <th>Presidente y Vicepresidente</th>\n",
       "      <td>2019-10-20 17:05:27</td>\n",
       "      <td>2019-10-20 17:07:00</td>\n",
       "      <td>2019-10-20 17:19:55</td>\n",
       "      <td>2019-10-20 17:20:15</td>\n",
       "    </tr>\n",
       "    <tr>\n",
       "      <th>...</th>\n",
       "      <th>...</th>\n",
       "      <td>...</td>\n",
       "      <td>...</td>\n",
       "      <td>...</td>\n",
       "      <td>...</td>\n",
       "    </tr>\n",
       "    <tr>\n",
       "      <th>90387</th>\n",
       "      <th>Presidente y Vicepresidente</th>\n",
       "      <td>2019-10-20 17:47:20</td>\n",
       "      <td>NaT</td>\n",
       "      <td>2019-10-20 17:49:30</td>\n",
       "      <td>2019-10-20 17:49:51</td>\n",
       "    </tr>\n",
       "    <tr>\n",
       "      <th rowspan=\"2\" valign=\"top\">90388</th>\n",
       "      <th>Diputados Uninominales</th>\n",
       "      <td>2019-10-20 18:57:45</td>\n",
       "      <td>NaT</td>\n",
       "      <td>2019-10-20 18:58:44</td>\n",
       "      <td>2019-10-20 19:00:52</td>\n",
       "    </tr>\n",
       "    <tr>\n",
       "      <th>Presidente y Vicepresidente</th>\n",
       "      <td>2019-10-20 18:57:43</td>\n",
       "      <td>NaT</td>\n",
       "      <td>2019-10-20 18:58:48</td>\n",
       "      <td>2019-10-20 18:59:31</td>\n",
       "    </tr>\n",
       "    <tr>\n",
       "      <th rowspan=\"2\" valign=\"top\">90389</th>\n",
       "      <th>Diputados Uninominales</th>\n",
       "      <td>2019-10-20 17:17:59</td>\n",
       "      <td>NaT</td>\n",
       "      <td>2019-10-20 17:27:06</td>\n",
       "      <td>2019-10-20 17:27:33</td>\n",
       "    </tr>\n",
       "    <tr>\n",
       "      <th>Presidente y Vicepresidente</th>\n",
       "      <td>2019-10-20 17:17:58</td>\n",
       "      <td>NaT</td>\n",
       "      <td>2019-10-20 17:25:02</td>\n",
       "      <td>2019-10-20 17:25:52</td>\n",
       "    </tr>\n",
       "  </tbody>\n",
       "</table>\n",
       "<p>67400 rows × 4 columns</p>\n",
       "</div>"
      ],
      "text/plain": [
       "                                       MobileTranscript        ComputoImage  \\\n",
       "NumMesa ElecActa                                                              \n",
       "1001    Presidente y Vicepresidente 2019-10-20 13:10:42 2019-10-20 13:12:00   \n",
       "1002    Presidente y Vicepresidente 2019-10-20 11:41:48 2019-10-20 11:42:00   \n",
       "1003    Presidente y Vicepresidente 2019-10-20 17:27:26 2019-10-20 17:29:00   \n",
       "1004    Presidente y Vicepresidente 2019-10-20 17:34:42 2019-10-20 17:39:00   \n",
       "1005    Presidente y Vicepresidente 2019-10-20 17:05:27 2019-10-20 17:07:00   \n",
       "...                                                 ...                 ...   \n",
       "90387   Presidente y Vicepresidente 2019-10-20 17:47:20                 NaT   \n",
       "90388   Diputados Uninominales      2019-10-20 18:57:45                 NaT   \n",
       "        Presidente y Vicepresidente 2019-10-20 18:57:43                 NaT   \n",
       "90389   Diputados Uninominales      2019-10-20 17:17:59                 NaT   \n",
       "        Presidente y Vicepresidente 2019-10-20 17:17:58                 NaT   \n",
       "\n",
       "                                           SereciServed    SereciTranscript  \n",
       "NumMesa ElecActa                                                             \n",
       "1001    Presidente y Vicepresidente 2019-10-20 13:11:35 2019-10-20 13:11:56  \n",
       "1002    Presidente y Vicepresidente 2019-10-20 11:45:06 2019-10-20 11:45:29  \n",
       "1003    Presidente y Vicepresidente 2019-10-20 17:29:07 2019-10-20 17:29:26  \n",
       "1004    Presidente y Vicepresidente 2019-10-20 17:39:15 2019-10-20 17:39:41  \n",
       "1005    Presidente y Vicepresidente 2019-10-20 17:19:55 2019-10-20 17:20:15  \n",
       "...                                                 ...                 ...  \n",
       "90387   Presidente y Vicepresidente 2019-10-20 17:49:30 2019-10-20 17:49:51  \n",
       "90388   Diputados Uninominales      2019-10-20 18:58:44 2019-10-20 19:00:52  \n",
       "        Presidente y Vicepresidente 2019-10-20 18:58:48 2019-10-20 18:59:31  \n",
       "90389   Diputados Uninominales      2019-10-20 17:27:06 2019-10-20 17:27:33  \n",
       "        Presidente y Vicepresidente 2019-10-20 17:25:02 2019-10-20 17:25:52  \n",
       "\n",
       "[67400 rows x 4 columns]"
      ]
     },
     "execution_count": 23,
     "metadata": {},
     "output_type": "execute_result"
    }
   ],
   "source": [
    "bo2_pub_ip = '3.231.68.158'\n",
    "trep_times = trep_times.join(\n",
    "    computo.loc[\n",
    "        computo['IP Primera Transmisión Imagen'] == bo2_pub_ip,\n",
    "        'Primera Transmisión Imagen'\n",
    "    ].rename('ComputoImage')\n",
    ").sort_datetime_columns()\n",
    "trep_times"
   ]
  },
  {
   "cell_type": "markdown",
   "id": "9ee5172f-2cea-4e50-b348-45a76d9fa01d",
   "metadata": {},
   "source": [
    "However, I only have times for 1452 records, all from overseas. The times for the other records are blank, and those blanks represent 97.8% (!) of all records:"
   ]
  },
  {
   "cell_type": "code",
   "execution_count": 24,
   "id": "0e1e911e-ac5f-4791-97a1-22d525360167",
   "metadata": {},
   "outputs": [
    {
     "data": {
      "text/plain": [
       "column            error             \n",
       "MobileTranscript  isnull                0.000000\n",
       "                  > SereciTranscript    0.000000\n",
       "SereciTranscript  isnull                0.000000\n",
       "SereciServed      isnull                0.000000\n",
       "                  < MobileTranscript    0.000000\n",
       "ComputoImage      isnull                0.978457\n",
       "Name: nerrs, dtype: float64"
      ]
     },
     "execution_count": 24,
     "metadata": {},
     "output_type": "execute_result"
    }
   ],
   "source": [
    "set_test('ComputoImage', 'isnull', lambda x: x.ComputoImage.isna())\n",
    "run_tests(normalize=True)"
   ]
  },
  {
   "cell_type": "markdown",
   "id": "be5e7b61-05af-4893-9c2e-5eee6fe680d7",
   "metadata": {},
   "source": [
    "Unfortunately, I don't have a way to fill those blank values in. I'll have to drop those records, working only with the 2.2% of records with defined times."
   ]
  },
  {
   "cell_type": "code",
   "execution_count": 25,
   "id": "e45bf41b-e5e6-4b0c-8212-b2513788619d",
   "metadata": {},
   "outputs": [
    {
     "data": {
      "text/plain": [
       "column            error             \n",
       "MobileTranscript  isnull                0\n",
       "                  > SereciTranscript    0\n",
       "SereciTranscript  isnull                0\n",
       "SereciServed      isnull                0\n",
       "                  < MobileTranscript    0\n",
       "ComputoImage      isnull                0\n",
       "Name: nerrs, dtype: int64"
      ]
     },
     "execution_count": 25,
     "metadata": {},
     "output_type": "execute_result"
    }
   ],
   "source": [
    "trep_times.dropna(subset='ComputoImage', inplace=True)\n",
    "run_tests()"
   ]
  },
  {
   "cell_type": "markdown",
   "id": "a620a2eb-18d3-4734-a928-7d98b47f6f2d",
   "metadata": {},
   "source": [
    "But that's not the only problem. For some records, it shows the image was replicated to the Cómputo *after* the TREP verification attempt. I assumed when bo2 received an image, it instantly replicated it, but that's not true. In 92 cases, there's a TREP verification attempt (which implies an image on bo2), *then* a Cómputo image replication."
   ]
  },
  {
   "cell_type": "code",
   "execution_count": 26,
   "id": "8fef06f7-a407-40dc-9f98-c828b53ed25a",
   "metadata": {},
   "outputs": [
    {
     "data": {
      "text/plain": [
       "column            error             \n",
       "MobileTranscript  isnull                 0\n",
       "                  > SereciTranscript     0\n",
       "SereciTranscript  isnull                 0\n",
       "SereciServed      isnull                 0\n",
       "                  < MobileTranscript     0\n",
       "ComputoImage      isnull                 0\n",
       "                  > SereciTranscript    92\n",
       "Name: nerrs, dtype: int64"
      ]
     },
     "execution_count": 26,
     "metadata": {},
     "output_type": "execute_result"
    }
   ],
   "source": [
    "set_test('ComputoImage', '> SereciTranscript', lambda x: x.ComputoImage > x.SereciTranscript)\n",
    "run_tests()"
   ]
  },
  {
   "cell_type": "markdown",
   "id": "3844a1f6-417e-454c-91a4-1bb61ddb3685",
   "metadata": {},
   "source": [
    "To illustrate, I'll take a random case of this:"
   ]
  },
  {
   "cell_type": "code",
   "execution_count": 27,
   "id": "bfefa69d-e1e1-4e07-a728-73e06470344e",
   "metadata": {},
   "outputs": [
    {
     "data": {
      "text/html": [
       "<div>\n",
       "<style scoped>\n",
       "    .dataframe tbody tr th:only-of-type {\n",
       "        vertical-align: middle;\n",
       "    }\n",
       "\n",
       "    .dataframe tbody tr th {\n",
       "        vertical-align: top;\n",
       "    }\n",
       "\n",
       "    .dataframe thead th {\n",
       "        text-align: right;\n",
       "    }\n",
       "</style>\n",
       "<table border=\"1\" class=\"dataframe\">\n",
       "  <thead>\n",
       "    <tr style=\"text-align: right;\">\n",
       "      <th></th>\n",
       "      <th>Timestamp</th>\n",
       "    </tr>\n",
       "  </thead>\n",
       "  <tbody>\n",
       "    <tr>\n",
       "      <th>MobileTranscript</th>\n",
       "      <td>2019-10-20 17:33:05</td>\n",
       "    </tr>\n",
       "    <tr>\n",
       "      <th>SereciServed</th>\n",
       "      <td>2019-10-20 17:33:38</td>\n",
       "    </tr>\n",
       "    <tr>\n",
       "      <th>SereciTranscript</th>\n",
       "      <td>2019-10-20 17:33:49</td>\n",
       "    </tr>\n",
       "    <tr>\n",
       "      <th>ComputoImage</th>\n",
       "      <td>2019-10-20 17:34:00</td>\n",
       "    </tr>\n",
       "  </tbody>\n",
       "</table>\n",
       "</div>"
      ],
      "text/plain": [
       "                           Timestamp\n",
       "MobileTranscript 2019-10-20 17:33:05\n",
       "SereciServed     2019-10-20 17:33:38\n",
       "SereciTranscript 2019-10-20 17:33:49\n",
       "ComputoImage     2019-10-20 17:34:00"
      ]
     },
     "execution_count": 27,
     "metadata": {},
     "output_type": "execute_result"
    }
   ],
   "source": [
    "(\n",
    "    trep_times[trep_times.ComputoImage > trep_times.SereciTranscript]\n",
    "        .sample(n=1, random_state=0)\n",
    "        .squeeze()\n",
    "        .sort_values()\n",
    "        .to_frame('Timestamp')\n",
    ")"
   ]
  },
  {
   "cell_type": "markdown",
   "id": "b34a86d5-64de-48c7-a46e-faf4cc94c9c8",
   "metadata": {},
   "source": [
    "The TREP verification attempt is at 17:33:49, *then* comes the Cómputo image replication at 17:34:00. The Cómputo image replications might be on a delay, but it's also possible <code>ComputoImage</code> was rounded or ceiling'd to the minute, since all the times in the Cómputo data are at minute-boundaries (ie. their second-offset is 0):"
   ]
  },
  {
   "cell_type": "code",
   "execution_count": 28,
   "id": "1a5154ab-643a-4bf5-b7cb-c3951825b7ae",
   "metadata": {
    "tags": []
   },
   "outputs": [
    {
     "data": {
      "text/plain": [
       "True"
      ]
     },
     "execution_count": 28,
     "metadata": {},
     "output_type": "execute_result"
    }
   ],
   "source": [
    "computo.select_dtypes(include='datetime64').apply(lambda x: x.isna() | (x.dt.second == 0)).all(axis=None)"
   ]
  },
  {
   "cell_type": "markdown",
   "id": "17785693-459e-4c61-b455-1a43c1ee370a",
   "metadata": {},
   "source": [
    "I can work around both issues, though, thanks to some information in the <a href=\"https://drive.google.com/file/d/1MP4WZmDejLAmygNIsouyPjjttVDCk2vh/view?usp=sharing\">BISITE</a> report. On p163, there's an nginx log entry from oep1, which was the Cómputo reverse proxy that fronted for oep2. The log entry shows an HTTP request from bo2 (<code>3.231.68.158</code>) that replicated station #2322's image from bo2 to oep1:"
   ]
  },
  {
   "cell_type": "markdown",
   "id": "5c36aa91-d40e-47ef-b377-6477c3524fb7",
   "metadata": {},
   "source": [
    "<code>3.231.68.158 - - [20/Oct/2019:11:22:36 -0400] \"POST /simobol_2019_3_Computo/registroImagenActa?sid3User=simoreplica&sid3pwd=20simogua15&NumMesa=2322&NumImagen=1&Fase=2&Valida=1&TransmisionUser=gacunasuarez&TransmisionFullName=GUSTAVO+ACU%C3%91A+SUAREZ&TransmisionDate=1571584917000&TransmisionIP=95.63.159.20 HTTP/1.1\" 200 34 \"-\" \"Apache\u0002HttpClient/4.5 (Java/1.8.0_222)\"</code>"
   ]
  },
  {
   "cell_type": "markdown",
   "id": "3dcbe2ec-bc84-4eb1-b39a-3bc789d09501",
   "metadata": {},
   "source": [
    "I think the URL parameters correspond to fields in bo2's ActaImagenLog table, whose record for station #2322 was copied here (plus some login credentials). Some of the fields are of interest to me. For example, *Valida* was probably related to that SERECI call center. Of greater interest to me, however, is the *TransmisionDate* field, which appears to be the TREPbo2 server's time of reception for this image. It's in UNIX format and is equal to: '20/Oct/2019:11:21:57 -0400'. This is 39 seconds before the nginx log entry's time of '20/Oct/2019:11:22:36 -0400', so it looks bo2 held the image for 39 seconds before transmitting it to oep1. This seems like too long for it to be due to network latency or server load, especially since almost no data was being received or processed at 11:22 AM on Election Day. It must be some kind of programmed delay. And sure enough, in Marcel Guzmán de Rojas's witness statement (<a href=\"https://drive.google.com/file/d/1qmgB3Q3ZpXtVvLhQJj-rJHoL7MuIXQML/view\">*Sobreseimiento*</a>, p22), he says that bo2's data replication process ran on a *one-minute timer*:"
   ]
  },
  {
   "cell_type": "markdown",
   "id": "1d14cffb-3c47-45df-8cdf-2fbf76385ee0",
   "metadata": {},
   "source": [
    "<blockquote>La información llega primero a bo2, tanto de los teléfonos como de los verificadores, ahí se procesan y ahí se almacenan, y después <strong>una vez al minuto</strong> (énfasis mío), bo2 [recoge] todas las actas nuevas, las imágenes nuevas, las transmite al bo2s...</blockquote>"
   ]
  },
  {
   "cell_type": "markdown",
   "id": "e444606b-2298-4d7b-ade1-cdccb890d8a5",
   "metadata": {
    "tags": []
   },
   "source": [
    "This aligns with the timestamps in the nginx log that show bo2 held #2322's image for 39 seconds (ie. inside the 1-minute timer), then sent it to oep1."
   ]
  },
  {
   "cell_type": "markdown",
   "id": "7b3d99fa-4349-4dc5-a5c0-695c9997c7b9",
   "metadata": {},
   "source": [
    "The other problem I have is that all the Cómputo dataset's timestamps are on minute boundaries, so a round, floor, or ceiling operation must've been applied to them. Once again, the nginx log entry can help here. To analyze this closer, I'll gather all the image timestamps I have for station #2322 to see if I can make sense of them."
   ]
  },
  {
   "cell_type": "markdown",
   "id": "3271c55f-ff17-486f-b485-36d422560b4e",
   "metadata": {},
   "source": [
    "| Origin  | Destination  | Data Source | Timestamp |\n",
    "| --- | --- | --- | --- |\n",
    "| bo11 | bo2 | BSIITE's oep1 nginx Log | 2019-10-20 11:21:57 |\n",
    "| bo2 | oep1 | BISITE's oep1 nginx Log | 2019-10-20 11:22:36 | \n",
    "| oep1 | oep2 | DNTIC's Cómputo Spreadsheet | 2019-10-20 11:22:00 |"
   ]
  },
  {
   "cell_type": "markdown",
   "id": "8eea82a1-9868-4d7a-9956-8d1181731fb9",
   "metadata": {},
   "source": [
    "If *bo11 → bo2* was at 11:21:57 and *bo2 → oep1* was at 11:22:36, then *oep1 → oep2* must've been at 11:22:36 or later. But if you round or ceiling that to the minute, you get 11:23:00 or later, not 11:22:00. Therefore, #2322's Cómputo image transmission time of 11:22:00—and, one assumes, all others too—must be from a *floor* operation."
   ]
  },
  {
   "cell_type": "markdown",
   "id": "ec889435-1936-4c5d-91cf-d246e2abfb68",
   "metadata": {},
   "source": [
    "So, I now have two useful facts:\n",
    "\n",
    "* The bo2 server replicated new images once per minute.\n",
    "* The timestamps in the Cómputo dataset were floored to the minute."
   ]
  },
  {
   "cell_type": "markdown",
   "id": "c696257b-2611-46e4-aa73-22497d0a4bf6",
   "metadata": {},
   "source": [
    "Putting these facts together, if I wanted to estimate when #2322's acta image reached the bo2 server based only on the Cómputo image timestamp, then I'd say that the floored Cómputo image time of 11:22:00 implies that *bo2 → oep1 → oep2* was between 11:22:00 and 11:22:59. And since bo2 replicated on a 1-minute timer, it must've received the image between 11:21:00 and 11:22:59, a range which contains #2322's actual bo2 image reception time of 11:21:57 from the oep1 nginx log entry."
   ]
  },
  {
   "cell_type": "markdown",
   "id": "4a1ed099-30fe-475a-817e-38135f953bcf",
   "metadata": {},
   "source": [
    "In general, the range of bo2 image reception times should be:\n",
    "\n",
    "<code>[ComputoImage - 1min, ComputoImage + 59sec]</code>"
   ]
  },
  {
   "cell_type": "markdown",
   "id": "dddbb67c-05a8-4ccc-a2ee-a7797ed22268",
   "metadata": {},
   "source": [
    "So I'll create two new fields, one with the minimum bound (which I'll call <code>MobileImageMin</code>) and one with the maximum (<code>MobileImageMax</code>):"
   ]
  },
  {
   "cell_type": "code",
   "execution_count": 29,
   "id": "45bf78d1-fb57-468b-a5d2-287151d9c172",
   "metadata": {},
   "outputs": [
    {
     "data": {
      "text/html": [
       "<div>\n",
       "<style scoped>\n",
       "    .dataframe tbody tr th:only-of-type {\n",
       "        vertical-align: middle;\n",
       "    }\n",
       "\n",
       "    .dataframe tbody tr th {\n",
       "        vertical-align: top;\n",
       "    }\n",
       "\n",
       "    .dataframe thead th {\n",
       "        text-align: right;\n",
       "    }\n",
       "</style>\n",
       "<table border=\"1\" class=\"dataframe\">\n",
       "  <thead>\n",
       "    <tr style=\"text-align: right;\">\n",
       "      <th></th>\n",
       "      <th></th>\n",
       "      <th>MobileImageMin</th>\n",
       "      <th>MobileTranscript</th>\n",
       "      <th>ComputoImage</th>\n",
       "      <th>SereciServed</th>\n",
       "      <th>MobileImageMax</th>\n",
       "      <th>SereciTranscript</th>\n",
       "    </tr>\n",
       "    <tr>\n",
       "      <th>NumMesa</th>\n",
       "      <th>ElecActa</th>\n",
       "      <th></th>\n",
       "      <th></th>\n",
       "      <th></th>\n",
       "      <th></th>\n",
       "      <th></th>\n",
       "      <th></th>\n",
       "    </tr>\n",
       "  </thead>\n",
       "  <tbody>\n",
       "    <tr>\n",
       "      <th>1001</th>\n",
       "      <th>Presidente y Vicepresidente</th>\n",
       "      <td>2019-10-20 13:11:00</td>\n",
       "      <td>2019-10-20 13:10:42</td>\n",
       "      <td>2019-10-20 13:12:00</td>\n",
       "      <td>2019-10-20 13:11:35.000</td>\n",
       "      <td>2019-10-20 13:12:59</td>\n",
       "      <td>2019-10-20 13:11:56</td>\n",
       "    </tr>\n",
       "    <tr>\n",
       "      <th>1002</th>\n",
       "      <th>Presidente y Vicepresidente</th>\n",
       "      <td>2019-10-20 11:41:00</td>\n",
       "      <td>2019-10-20 11:41:48</td>\n",
       "      <td>2019-10-20 11:42:00</td>\n",
       "      <td>2019-10-20 11:45:06.000</td>\n",
       "      <td>2019-10-20 11:42:59</td>\n",
       "      <td>2019-10-20 11:45:29</td>\n",
       "    </tr>\n",
       "    <tr>\n",
       "      <th>1003</th>\n",
       "      <th>Presidente y Vicepresidente</th>\n",
       "      <td>2019-10-20 17:28:00</td>\n",
       "      <td>2019-10-20 17:27:26</td>\n",
       "      <td>2019-10-20 17:29:00</td>\n",
       "      <td>2019-10-20 17:29:07.000</td>\n",
       "      <td>2019-10-20 17:29:59</td>\n",
       "      <td>2019-10-20 17:29:26</td>\n",
       "    </tr>\n",
       "    <tr>\n",
       "      <th>1004</th>\n",
       "      <th>Presidente y Vicepresidente</th>\n",
       "      <td>2019-10-20 17:38:00</td>\n",
       "      <td>2019-10-20 17:34:42</td>\n",
       "      <td>2019-10-20 17:39:00</td>\n",
       "      <td>2019-10-20 17:39:15.000</td>\n",
       "      <td>2019-10-20 17:39:59</td>\n",
       "      <td>2019-10-20 17:39:41</td>\n",
       "    </tr>\n",
       "    <tr>\n",
       "      <th>1005</th>\n",
       "      <th>Presidente y Vicepresidente</th>\n",
       "      <td>2019-10-20 17:06:00</td>\n",
       "      <td>2019-10-20 17:05:27</td>\n",
       "      <td>2019-10-20 17:07:00</td>\n",
       "      <td>2019-10-20 17:19:55.000</td>\n",
       "      <td>2019-10-20 17:07:59</td>\n",
       "      <td>2019-10-20 17:20:15</td>\n",
       "    </tr>\n",
       "    <tr>\n",
       "      <th>...</th>\n",
       "      <th>...</th>\n",
       "      <td>...</td>\n",
       "      <td>...</td>\n",
       "      <td>...</td>\n",
       "      <td>...</td>\n",
       "      <td>...</td>\n",
       "      <td>...</td>\n",
       "    </tr>\n",
       "    <tr>\n",
       "      <th>2503</th>\n",
       "      <th>Presidente y Vicepresidente</th>\n",
       "      <td>2019-10-20 14:45:00</td>\n",
       "      <td>2019-10-20 14:45:26</td>\n",
       "      <td>2019-10-20 14:46:00</td>\n",
       "      <td>2019-10-20 14:50:36.000</td>\n",
       "      <td>2019-10-20 14:46:59</td>\n",
       "      <td>2019-10-20 14:51:31</td>\n",
       "    </tr>\n",
       "    <tr>\n",
       "      <th>2504</th>\n",
       "      <th>Presidente y Vicepresidente</th>\n",
       "      <td>2019-10-20 14:47:00</td>\n",
       "      <td>2019-10-20 14:46:41</td>\n",
       "      <td>2019-10-20 14:48:00</td>\n",
       "      <td>2019-10-20 14:47:40.500</td>\n",
       "      <td>2019-10-20 14:48:59</td>\n",
       "      <td>2019-10-20 14:48:31</td>\n",
       "    </tr>\n",
       "    <tr>\n",
       "      <th>2505</th>\n",
       "      <th>Presidente y Vicepresidente</th>\n",
       "      <td>2019-10-20 14:52:00</td>\n",
       "      <td>2019-10-20 14:51:58</td>\n",
       "      <td>2019-10-20 14:53:00</td>\n",
       "      <td>2019-10-20 15:02:33.000</td>\n",
       "      <td>2019-10-20 14:53:59</td>\n",
       "      <td>2019-10-20 15:05:32</td>\n",
       "    </tr>\n",
       "    <tr>\n",
       "      <th>2506</th>\n",
       "      <th>Presidente y Vicepresidente</th>\n",
       "      <td>2019-10-20 17:36:00</td>\n",
       "      <td>2019-10-20 17:36:45</td>\n",
       "      <td>2019-10-20 17:37:00</td>\n",
       "      <td>2019-10-20 17:37:15.000</td>\n",
       "      <td>2019-10-20 17:37:59</td>\n",
       "      <td>2019-10-20 17:37:31</td>\n",
       "    </tr>\n",
       "    <tr>\n",
       "      <th>2507</th>\n",
       "      <th>Presidente y Vicepresidente</th>\n",
       "      <td>2019-10-20 17:01:00</td>\n",
       "      <td>2019-10-20 17:02:03</td>\n",
       "      <td>2019-10-20 17:02:00</td>\n",
       "      <td>2019-10-20 17:21:40.000</td>\n",
       "      <td>2019-10-20 17:02:59</td>\n",
       "      <td>2019-10-20 17:22:05</td>\n",
       "    </tr>\n",
       "  </tbody>\n",
       "</table>\n",
       "<p>1452 rows × 6 columns</p>\n",
       "</div>"
      ],
      "text/plain": [
       "                                         MobileImageMin    MobileTranscript  \\\n",
       "NumMesa ElecActa                                                              \n",
       "1001    Presidente y Vicepresidente 2019-10-20 13:11:00 2019-10-20 13:10:42   \n",
       "1002    Presidente y Vicepresidente 2019-10-20 11:41:00 2019-10-20 11:41:48   \n",
       "1003    Presidente y Vicepresidente 2019-10-20 17:28:00 2019-10-20 17:27:26   \n",
       "1004    Presidente y Vicepresidente 2019-10-20 17:38:00 2019-10-20 17:34:42   \n",
       "1005    Presidente y Vicepresidente 2019-10-20 17:06:00 2019-10-20 17:05:27   \n",
       "...                                                 ...                 ...   \n",
       "2503    Presidente y Vicepresidente 2019-10-20 14:45:00 2019-10-20 14:45:26   \n",
       "2504    Presidente y Vicepresidente 2019-10-20 14:47:00 2019-10-20 14:46:41   \n",
       "2505    Presidente y Vicepresidente 2019-10-20 14:52:00 2019-10-20 14:51:58   \n",
       "2506    Presidente y Vicepresidente 2019-10-20 17:36:00 2019-10-20 17:36:45   \n",
       "2507    Presidente y Vicepresidente 2019-10-20 17:01:00 2019-10-20 17:02:03   \n",
       "\n",
       "                                           ComputoImage  \\\n",
       "NumMesa ElecActa                                          \n",
       "1001    Presidente y Vicepresidente 2019-10-20 13:12:00   \n",
       "1002    Presidente y Vicepresidente 2019-10-20 11:42:00   \n",
       "1003    Presidente y Vicepresidente 2019-10-20 17:29:00   \n",
       "1004    Presidente y Vicepresidente 2019-10-20 17:39:00   \n",
       "1005    Presidente y Vicepresidente 2019-10-20 17:07:00   \n",
       "...                                                 ...   \n",
       "2503    Presidente y Vicepresidente 2019-10-20 14:46:00   \n",
       "2504    Presidente y Vicepresidente 2019-10-20 14:48:00   \n",
       "2505    Presidente y Vicepresidente 2019-10-20 14:53:00   \n",
       "2506    Presidente y Vicepresidente 2019-10-20 17:37:00   \n",
       "2507    Presidente y Vicepresidente 2019-10-20 17:02:00   \n",
       "\n",
       "                                               SereciServed  \\\n",
       "NumMesa ElecActa                                              \n",
       "1001    Presidente y Vicepresidente 2019-10-20 13:11:35.000   \n",
       "1002    Presidente y Vicepresidente 2019-10-20 11:45:06.000   \n",
       "1003    Presidente y Vicepresidente 2019-10-20 17:29:07.000   \n",
       "1004    Presidente y Vicepresidente 2019-10-20 17:39:15.000   \n",
       "1005    Presidente y Vicepresidente 2019-10-20 17:19:55.000   \n",
       "...                                                     ...   \n",
       "2503    Presidente y Vicepresidente 2019-10-20 14:50:36.000   \n",
       "2504    Presidente y Vicepresidente 2019-10-20 14:47:40.500   \n",
       "2505    Presidente y Vicepresidente 2019-10-20 15:02:33.000   \n",
       "2506    Presidente y Vicepresidente 2019-10-20 17:37:15.000   \n",
       "2507    Presidente y Vicepresidente 2019-10-20 17:21:40.000   \n",
       "\n",
       "                                         MobileImageMax    SereciTranscript  \n",
       "NumMesa ElecActa                                                             \n",
       "1001    Presidente y Vicepresidente 2019-10-20 13:12:59 2019-10-20 13:11:56  \n",
       "1002    Presidente y Vicepresidente 2019-10-20 11:42:59 2019-10-20 11:45:29  \n",
       "1003    Presidente y Vicepresidente 2019-10-20 17:29:59 2019-10-20 17:29:26  \n",
       "1004    Presidente y Vicepresidente 2019-10-20 17:39:59 2019-10-20 17:39:41  \n",
       "1005    Presidente y Vicepresidente 2019-10-20 17:07:59 2019-10-20 17:20:15  \n",
       "...                                                 ...                 ...  \n",
       "2503    Presidente y Vicepresidente 2019-10-20 14:46:59 2019-10-20 14:51:31  \n",
       "2504    Presidente y Vicepresidente 2019-10-20 14:48:59 2019-10-20 14:48:31  \n",
       "2505    Presidente y Vicepresidente 2019-10-20 14:53:59 2019-10-20 15:05:32  \n",
       "2506    Presidente y Vicepresidente 2019-10-20 17:37:59 2019-10-20 17:37:31  \n",
       "2507    Presidente y Vicepresidente 2019-10-20 17:02:59 2019-10-20 17:22:05  \n",
       "\n",
       "[1452 rows x 6 columns]"
      ]
     },
     "execution_count": 29,
     "metadata": {},
     "output_type": "execute_result"
    }
   ],
   "source": [
    "trep_times['MobileImageMin'] = (trep_times['ComputoImage'] - pd.Timedelta('1min'))\n",
    "trep_times['MobileImageMax'] = (trep_times['ComputoImage'] + pd.Timedelta('59s'))\n",
    "trep_times = trep_times.sort_datetime_columns()\n",
    "trep_times"
   ]
  },
  {
   "cell_type": "markdown",
   "id": "d4d6b27e-db3c-4184-a01a-2f2418a91b91",
   "metadata": {},
   "source": [
    "Next I'll run checks on this image range. To start, I'll check for <code>MobileImageMin > SereciTranscript</code>. This wouldn't make sense because an acta column can't be verified before its image is received. I wouldn't expect to find any cases like this because <code>MobileImageMin</code> and <code>SereciTranscript</code> should be reliable."
   ]
  },
  {
   "cell_type": "code",
   "execution_count": 30,
   "id": "60c013cb-ec8b-4842-bbac-7c3da0e4c6d9",
   "metadata": {},
   "outputs": [
    {
     "data": {
      "text/plain": [
       "column            error             \n",
       "MobileTranscript  isnull                0\n",
       "                  > SereciTranscript    0\n",
       "SereciTranscript  isnull                0\n",
       "SereciServed      isnull                0\n",
       "                  < MobileTranscript    0\n",
       "MobileImageMin    > SereciTranscript    3\n",
       "Name: nerrs, dtype: int64"
      ]
     },
     "execution_count": 30,
     "metadata": {},
     "output_type": "execute_result"
    }
   ],
   "source": [
    "# delete all 'ComputoImage' tests, since i'm working with [MobileImageMin, MobileImageMax] now.\n",
    "delete_test('ComputoImage', '> SereciTranscript')\n",
    "delete_test('ComputoImage', 'isnull')\n",
    "\n",
    "# add the 'MobileImageMin' test.\n",
    "set_test('MobileImageMin', '> SereciTranscript', lambda x: x.MobileImageMin > x.SereciTranscript)\n",
    "run_tests()"
   ]
  },
  {
   "cell_type": "markdown",
   "id": "e8e7ead2-6c64-4cd5-91a5-2623648bad5b",
   "metadata": {},
   "source": [
    "There are three cases where <code>MobileImageMin > SereciTranscript</code>, which shouldn't happen."
   ]
  },
  {
   "cell_type": "code",
   "execution_count": 31,
   "id": "2e833b92-1fc3-48ac-9bb4-496e885f5149",
   "metadata": {},
   "outputs": [
    {
     "data": {
      "text/html": [
       "<div>\n",
       "<style scoped>\n",
       "    .dataframe tbody tr th:only-of-type {\n",
       "        vertical-align: middle;\n",
       "    }\n",
       "\n",
       "    .dataframe tbody tr th {\n",
       "        vertical-align: top;\n",
       "    }\n",
       "\n",
       "    .dataframe thead th {\n",
       "        text-align: right;\n",
       "    }\n",
       "</style>\n",
       "<table border=\"1\" class=\"dataframe\">\n",
       "  <thead>\n",
       "    <tr style=\"text-align: right;\">\n",
       "      <th></th>\n",
       "      <th></th>\n",
       "      <th>MobileTranscript</th>\n",
       "      <th>SereciTranscript</th>\n",
       "      <th>ComputoImage</th>\n",
       "    </tr>\n",
       "    <tr>\n",
       "      <th>NumMesa</th>\n",
       "      <th>ElecActa</th>\n",
       "      <th></th>\n",
       "      <th></th>\n",
       "      <th></th>\n",
       "    </tr>\n",
       "  </thead>\n",
       "  <tbody>\n",
       "    <tr>\n",
       "      <th>2056</th>\n",
       "      <th>Presidente y Vicepresidente</th>\n",
       "      <td>2019-10-20 04:28:49</td>\n",
       "      <td>2019-10-20 05:21:28</td>\n",
       "      <td>2019-10-20 05:57:00</td>\n",
       "    </tr>\n",
       "    <tr>\n",
       "      <th>2482</th>\n",
       "      <th>Presidente y Vicepresidente</th>\n",
       "      <td>2019-10-20 04:53:55</td>\n",
       "      <td>2019-10-20 05:27:13</td>\n",
       "      <td>2019-10-20 05:57:00</td>\n",
       "    </tr>\n",
       "    <tr>\n",
       "      <th>2054</th>\n",
       "      <th>Presidente y Vicepresidente</th>\n",
       "      <td>2019-10-20 05:21:42</td>\n",
       "      <td>2019-10-20 05:36:32</td>\n",
       "      <td>2019-10-20 05:57:00</td>\n",
       "    </tr>\n",
       "  </tbody>\n",
       "</table>\n",
       "</div>"
      ],
      "text/plain": [
       "                                       MobileTranscript    SereciTranscript  \\\n",
       "NumMesa ElecActa                                                              \n",
       "2056    Presidente y Vicepresidente 2019-10-20 04:28:49 2019-10-20 05:21:28   \n",
       "2482    Presidente y Vicepresidente 2019-10-20 04:53:55 2019-10-20 05:27:13   \n",
       "2054    Presidente y Vicepresidente 2019-10-20 05:21:42 2019-10-20 05:36:32   \n",
       "\n",
       "                                           ComputoImage  \n",
       "NumMesa ElecActa                                         \n",
       "2056    Presidente y Vicepresidente 2019-10-20 05:57:00  \n",
       "2482    Presidente y Vicepresidente 2019-10-20 05:57:00  \n",
       "2054    Presidente y Vicepresidente 2019-10-20 05:57:00  "
      ]
     },
     "execution_count": 31,
     "metadata": {},
     "output_type": "execute_result"
    }
   ],
   "source": [
    "trep_times.loc[\n",
    "    trep_times.MobileImageMin > trep_times.SereciTranscript,\n",
    "    ['MobileTranscript', 'SereciTranscript', 'ComputoImage']\n",
    "].sort_values('MobileTranscript')"
   ]
  },
  {
   "cell_type": "markdown",
   "id": "10b3a388-27c2-428b-96d6-7fd8231cfd53",
   "metadata": {},
   "source": [
    "It seems all three were due to issues with overseas image replications early on Election Day (<a href=\"https://drive.google.com/file/d/1BMb6_GKlj5a0uzTWX3PHGPrquCizd9iV/view\">EHC</a>, p26). If you look at the times above, you'll see that once this problem was resolved, all three were replicated at the same time around 5:57:00. I'm going to drop the three records, since they're an edge case not relevant to this analysis."
   ]
  },
  {
   "cell_type": "code",
   "execution_count": 32,
   "id": "d611917c-8fc9-45d0-b4c2-8586e3b91fd5",
   "metadata": {},
   "outputs": [
    {
     "data": {
      "text/plain": [
       "column            error             \n",
       "MobileTranscript  isnull                0\n",
       "                  > SereciTranscript    0\n",
       "SereciTranscript  isnull                0\n",
       "SereciServed      isnull                0\n",
       "                  < MobileTranscript    0\n",
       "MobileImageMin    > SereciTranscript    0\n",
       "Name: nerrs, dtype: int64"
      ]
     },
     "execution_count": 32,
     "metadata": {},
     "output_type": "execute_result"
    }
   ],
   "source": [
    "trep_times.drop(\n",
    "    index=trep_times[trep_times.MobileImageMin > trep_times.SereciTranscript].index,\n",
    "    inplace=True\n",
    ")\n",
    "run_tests()"
   ]
  },
  {
   "cell_type": "markdown",
   "id": "94375026-a048-4498-bb4c-919b91cde044",
   "metadata": {},
   "source": [
    "Next, I'll look for cases where <code>MobileImageMin > SereciServed</code> since an acta column shouldn't be served before its image is on the server. Unlike <code>MobileImageMin > SereciTranscript</code>, I expect a few of these since <code>SereciServed</code> is a simple estimate that won't be correct in all cases."
   ]
  },
  {
   "cell_type": "code",
   "execution_count": 33,
   "id": "f583b7d2-6a71-4650-9e5c-f3eb41388cc3",
   "metadata": {},
   "outputs": [
    {
     "data": {
      "text/plain": [
       "column            error             \n",
       "MobileTranscript  isnull                 0\n",
       "                  > SereciTranscript     0\n",
       "SereciTranscript  isnull                 0\n",
       "SereciServed      isnull                 0\n",
       "                  < MobileTranscript     0\n",
       "MobileImageMin    > SereciTranscript     0\n",
       "                  > SereciServed        25\n",
       "Name: nerrs, dtype: int64"
      ]
     },
     "execution_count": 33,
     "metadata": {},
     "output_type": "execute_result"
    }
   ],
   "source": [
    "set_test('MobileImageMin', '> SereciServed', lambda x: x.MobileImageMin > x.SereciServed)\n",
    "run_tests()"
   ]
  },
  {
   "cell_type": "markdown",
   "id": "31490e61-375e-475e-9518-096ce2459746",
   "metadata": {},
   "source": [
    "Indeed, there are 25 cases where <code>MobileImageMin > SereciServed</code>. I have more confidence in the <code>[MobileImageMin, MobileImageMax]</code> range than in <code>SereciServed</code>, so I'll replace the bad <code>SereciServed</code> times with <code>SereciTranscript</code> (the latest possible <code>SereciServed</code> time)."
   ]
  },
  {
   "cell_type": "code",
   "execution_count": 34,
   "id": "234d513a-f3a8-40f7-9895-9b585cfe78ee",
   "metadata": {},
   "outputs": [
    {
     "data": {
      "text/plain": [
       "column            error             \n",
       "MobileTranscript  isnull                0\n",
       "                  > SereciTranscript    0\n",
       "SereciTranscript  isnull                0\n",
       "SereciServed      isnull                0\n",
       "                  < MobileTranscript    0\n",
       "MobileImageMin    > SereciTranscript    0\n",
       "                  > SereciServed        0\n",
       "Name: nerrs, dtype: int64"
      ]
     },
     "execution_count": 34,
     "metadata": {},
     "output_type": "execute_result"
    }
   ],
   "source": [
    "trep_times.SereciServed = trep_times.SereciServed.where(\n",
    "    trep_times.MobileImageMin <= trep_times.SereciServed,\n",
    "    trep_times.SereciTranscript # this *inflates* the surplus estimate, making it equivalent to the basic actalog-based estimate.\n",
    ")\n",
    "run_tests()"
   ]
  },
  {
   "cell_type": "markdown",
   "id": "d4718da8-2b3b-4043-943c-9a8c925bc915",
   "metadata": {},
   "source": [
    "Next I'll run checks on <code>MobileImageMax</code>, which is the upper bound of the image range. However, unlike with <code>MobileImageMin</code>, I expect lots of cases where <code>MobileImageMax > SereciServed</code>, since <code>MobileImageMax</code> is an extreme upper bound on when the image arrived and most were served fast."
   ]
  },
  {
   "cell_type": "code",
   "execution_count": 35,
   "id": "b3f6906e-01e9-4138-a727-c4d0f19cb10c",
   "metadata": {},
   "outputs": [
    {
     "data": {
      "text/plain": [
       "column            error             \n",
       "MobileTranscript  isnull                0.000000\n",
       "                  > SereciTranscript    0.000000\n",
       "SereciTranscript  isnull                0.000000\n",
       "SereciServed      isnull                0.000000\n",
       "                  < MobileTranscript    0.000000\n",
       "MobileImageMin    > SereciTranscript    0.000000\n",
       "                  > SereciServed        0.000000\n",
       "MobileImageMax    > SereciServed        0.663216\n",
       "Name: nerrs, dtype: float64"
      ]
     },
     "execution_count": 35,
     "metadata": {},
     "output_type": "execute_result"
    }
   ],
   "source": [
    "set_test('MobileImageMax', '> SereciServed', lambda x: x.MobileImageMax > x.SereciServed)\n",
    "run_tests(normalize=True)"
   ]
  },
  {
   "cell_type": "markdown",
   "id": "f1f7a433-8516-4ad5-b79b-aa0953510964",
   "metadata": {},
   "source": [
    "As expected, there are lots of records where <code>MobileImageMax > SereciServed</code>. For these cases, I'll pull <code>MobileImageMax</code> down to <code>SereciServed</code>."
   ]
  },
  {
   "cell_type": "code",
   "execution_count": 36,
   "id": "fc5d2199-7ae8-4982-b460-583601a828cc",
   "metadata": {},
   "outputs": [
    {
     "data": {
      "text/plain": [
       "column            error             \n",
       "MobileTranscript  isnull                0\n",
       "                  > SereciTranscript    0\n",
       "SereciTranscript  isnull                0\n",
       "SereciServed      isnull                0\n",
       "                  < MobileTranscript    0\n",
       "MobileImageMin    > SereciTranscript    0\n",
       "                  > SereciServed        0\n",
       "MobileImageMax    > SereciServed        0\n",
       "Name: nerrs, dtype: int64"
      ]
     },
     "execution_count": 36,
     "metadata": {},
     "output_type": "execute_result"
    }
   ],
   "source": [
    "trep_times.MobileImageMax = trep_times.MobileImageMax.where(\n",
    "    trep_times.MobileImageMax <= trep_times.SereciServed,\n",
    "    trep_times.SereciServed\n",
    ")\n",
    "run_tests()"
   ]
  },
  {
   "cell_type": "markdown",
   "id": "e7fb8f2e-478a-4fa3-bd85-20a09b08bc76",
   "metadata": {},
   "source": [
    "I'm done with the tests, so now I can estimate when the acta column became eligible for verification as <code>max(MobileTranscript, MobileImage)</code>. However, <code>MobileImage</code> is the range <code>[MobileImageMin, MobileImageMax]</code>, so I'll have to calculate <code>Eligible</code> as <code>[EligibleMin, EligibleMax]</code>."
   ]
  },
  {
   "cell_type": "code",
   "execution_count": 37,
   "id": "5578b55a-5038-4d10-9bf7-0588a243b933",
   "metadata": {},
   "outputs": [],
   "source": [
    "trep_times['EligibleMin'] = trep_times[['MobileTranscript', 'MobileImageMin']].max(axis=1)\n",
    "trep_times['EligibleMax'] = trep_times[['MobileTranscript', 'MobileImageMax']].max(axis=1)\n",
    "trep_times['Eligible'] = trep_times[['EligibleMin', 'EligibleMax']].mean(axis=1, numeric_only=False)\n",
    "trep_times = trep_times.sort_datetime_columns()"
   ]
  },
  {
   "cell_type": "markdown",
   "id": "2af0345c-5251-4f20-8333-557202322b24",
   "metadata": {},
   "source": [
    "### Final Estimate ###"
   ]
  },
  {
   "cell_type": "markdown",
   "id": "50aeda22-f2bb-4fa1-aaf5-91a8a1ce7496",
   "metadata": {},
   "source": [
    "Now it's time for the final estimate. I'll do the baseline estimate and compare it with a revised estimate based on all the new timestamps."
   ]
  },
  {
   "cell_type": "code",
   "execution_count": 38,
   "id": "9a0d3f31-7d80-400a-ab3b-62a5bce1e158",
   "metadata": {},
   "outputs": [],
   "source": [
    "\"\"\"\n",
    "    The resample frequency ends up being somewhat important here, since MobileImageMin timestamps\n",
    "    all sit on minute-boundaries, so if you resample exactly on minute boundaries, you add lots of\n",
    "    tally sheet images all at once, then immediately use that as your resample point.\n",
    "    I guess that's the point of a minimum estimate, though? Eh.\n",
    "\"\"\"\n",
    "surplus = calculate_surplus(\n",
    "    trep_times,\n",
    "    {\n",
    "        'MobileTranscript → SereciTranscript': ('MobileTranscript', 'SereciTranscript'), # baseline estimate\n",
    "        'MIN:Eligible → SereciServed': ('EligibleMax', 'SereciServed'), # minimum surplus estimate.\n",
    "        'MID:Eligible → SereciServed': ('Eligible', 'SereciServed'), # middle surplus estimate.\n",
    "        'MAX:Eligible → SereciServed': ('EligibleMin', 'SereciServed') # maximum surplus estimate.\n",
    "    },\n",
    "    freq='61s'\n",
    ")"
   ]
  },
  {
   "cell_type": "code",
   "execution_count": 39,
   "id": "872068e0-829d-4181-9249-b5908b48d7d1",
   "metadata": {},
   "outputs": [
    {
     "data": {
      "text/plain": [
       "<matplotlib.collections.PolyCollection at 0x24e1a3cc0d0>"
      ]
     },
     "execution_count": 39,
     "metadata": {},
     "output_type": "execute_result"
    },
    {
     "data": {
      "image/png": "[encoded data removed]",
      "text/plain": [
       "<Figure size 800x600 with 1 Axes>"
      ]
     },
     "metadata": {},
     "output_type": "display_data"
    }
   ],
   "source": [
    "\"\"\"\n",
    "    Curious detail: From 20:35-21:45, TREP-to-Cómputo image replications stop.\n",
    "    It looks like the TSE isolated the Cómputo from the TREP in the post-alert panic.\n",
    "\"\"\"\n",
    "(\n",
    "    (\n",
    "        surplus[['MobileTranscript → SereciTranscript', 'MID:Eligible → SereciServed']]\n",
    "            .rename(columns={'MID:Eligible → SereciServed': 'Max(MobileTranscript, MobileImage) → SereciServed'})\n",
    "    )\n",
    "    .plot(\n",
    "        title='Surplus Estimates\\n(TREP, Election Day, Overseas/President)',\n",
    "        xlabel='time',\n",
    "        xlim=pd.to_datetime(['2019-10-20 16:30', '2019-10-20 21:00']),\n",
    "        x_compat=True,\n",
    "        ylabel='columns'\n",
    "    )\n",
    "    .xaxis.formatter(hhmm_format)\n",
    "    .hi_traffic_spans()\n",
    "    .fill_between(\n",
    "        surplus.index,\n",
    "        surplus['MIN:Eligible → SereciServed'],\n",
    "        surplus['MAX:Eligible → SereciServed'],\n",
    "        alpha=0.25,\n",
    "        color=sns.color_palette()[1]\n",
    "    )\n",
    ")"
   ]
  },
  {
   "cell_type": "markdown",
   "id": "5c2d2538-b486-46bd-ae6e-5f7ccb5768ad",
   "metadata": {},
   "source": [
    "As I expected, it's effectively zero during both high-traffic periods. I think the small gap is due to a mix of fine timing issues, the *invalid image* problem, and a few other minor details I failed to account for. I've captured most of what's important, though, and the results support my claims of a shortage of verifiable acta columns."
   ]
  },
  {
   "cell_type": "markdown",
   "id": "da2206ac-c362-4edb-9bc9-b1a38008ffc9",
   "metadata": {},
   "source": [
    "There's an odd detail about the graph that I want to mention because it leads into another analysis of mine. While the new estimate hovers around zero at the expected times in Period #1, for Period #2 the estimate bottoms out 15 minutes sooner than expected and remains low for several minutes past the end of the period. The reason it continues past the end of Period #2 is because Period #2 acutally ends at 20:07, not 20:00, but the premature bottoming-out of the estimate has an unexpected cause: It's because the new estimate is based exclusively on overseas actas, and while surplus from all regions was exhausted at 19:32, surplus *from overseas* was exhausted at 19:15. The reason for this has to do with how the system sequenced acta columns for verification, which I explored in <i><a href=\"https://nbviewer.org/github/distantcomment/bolivia2019/blob/main/how-trep-counted-tally-sheets.ipynb\">How Did Bolivia's 2019 TREP Count Tally Sheets?</a></i>."
   ]
  },
  {
   "cell_type": "code",
   "execution_count": null,
   "id": "21beefd6-4572-4f3f-84c6-fae3af15372d",
   "metadata": {},
   "outputs": [],
   "source": []
  }
 ],
 "metadata": {
  "kernelspec": {
   "display_name": "Python 3 (ipykernel)",
   "language": "python",
   "name": "python3"
  },
  "language_info": {
   "codemirror_mode": {
    "name": "ipython",
    "version": 3
   },
   "file_extension": ".py",
   "mimetype": "text/x-python",
   "name": "python",
   "nbconvert_exporter": "python",
   "pygments_lexer": "ipython3",
   "version": "3.10.9"
  }
 },
 "nbformat": 4,
 "nbformat_minor": 5
}
